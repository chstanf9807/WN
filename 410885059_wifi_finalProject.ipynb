{
 "cells": [
  {
   "cell_type": "code",
   "execution_count": 246,
   "metadata": {},
   "outputs": [],
   "source": [
    "# !pip install pywifi\n",
    "# !pip install comtypes\n",
    "# !pip install tk"
   ]
  },
  {
   "cell_type": "code",
   "execution_count": 247,
   "metadata": {},
   "outputs": [],
   "source": [
    "import pywifi"
   ]
  },
  {
   "cell_type": "code",
   "execution_count": 248,
   "metadata": {},
   "outputs": [
    {
     "name": "stderr",
     "output_type": "stream",
     "text": [
      "pywifi 2023-12-14 05:43:23,683 ERROR Open handle failed!\n"
     ]
    }
   ],
   "source": [
    "wifi = pywifi.PyWiFi()\n",
    "iface = wifi.interfaces()[0]\n",
    "\n",
    "iface.scan()\n",
    "\n",
    "result = iface.scan_results()"
   ]
  },
  {
   "cell_type": "code",
   "execution_count": 249,
   "metadata": {},
   "outputs": [
    {
     "name": "stdout",
     "output_type": "stream",
     "text": [
      "[['wolf.jamie5g', -92], ['ä¸\\x89æ\\x98\\x9fW21 5G8939', -91], ['20813', -91], ['130N4F-5G', -90], ['TP-Link_E9AA_5G', -90], ['', -89], ['359-2-12F', -89], ['dqdecox55', -89], [\"David's house\", -88], ['', -87], ['', -87], ['', -87], ['TOTOLINK_N302RE', -86], ['Xiaomi_DC68_5G', -85], ['811_5G', -85], ['007_5G-1', -85], ['netis_1835B3', -84], ['simon', -84], ['TP-Link_5E03_5G', -84], ['harry', -83], ['mama2615', -83], ['Xiaomi_CEDC', -83], ['edimax_5G_FE6AE2', -83], ['', -82], ['TP-LINK', -82], ['Esther', -81], ['chen 15', -81], ['poor', -81], ['', -80], ['359-2-12F', -80], ['007_5G-2', -80], ['linghong', -79], ['12f-162', -78], ['Xiaomi_9682', -78], ['TP-Link_D978', -77], ['dqdecox55', -77], ['Tony_2.4G', -77], ['TP-Link_E9AA', -77], ['130N4F-2.4G', -76], ['Siriuslu', -76], ['TP-Link_14BC', -76], ['mama2615', -75], ['Siriuslu', -75], ['sophia_wu', -74], ['wtt', -73], ['edimax_2.4G_FE6ADD', -73], ['351 8F-1', -73], ['Merlin', -72], ['', -71], ['TP-Link_247A', -71], ['TOTOLINK AC5_2.4G', -71], ['349 9F-1', -71], ['007', -70], ['811_2.4G', -66], ['(^_^)', -66], ['TP-Link_CD94', -59], ['ASUS_64', -59], ['TP-Link_B8AA', -53], ['ã\\x82\\x82ã\\x82\\x82ã\\x82\\x82ã\\x82\\x82ã\\x82\\x82ã\\x82\\x82ã\\x82\\x82ã\\x82\\x82', -32], ['ã\\x82\\x82ã\\x82\\x82ã\\x82\\x82ã\\x82\\x82ã\\x82\\x82ã\\x82\\x82ã\\x82\\x82ã\\x82\\x82', -32]]\n",
      "60\n"
     ]
    }
   ],
   "source": [
    "id_rssi = []\n",
    "for i in range(len(result)):\n",
    "    id_rssi.append([])\n",
    "    id_rssi[i].append(result[i].ssid)\n",
    "    id_rssi[i].append(result[i].signal)\n",
    "\n",
    "id_rssi.sort(key = lambda x: x[1])\n",
    "print(id_rssi)\n",
    "print(len(id_rssi))"
   ]
  },
  {
   "cell_type": "code",
   "execution_count": 250,
   "metadata": {},
   "outputs": [
    {
     "name": "stdout",
     "output_type": "stream",
     "text": [
      "wolf.jamie5g: RSSI = -92\n",
      "ä¸æW21 5G8939: RSSI = -91\n",
      "20813: RSSI = -91\n",
      "130N4F-5G: RSSI = -90\n",
      "TP-Link_E9AA_5G: RSSI = -90\n",
      ": RSSI = -89\n",
      "359-2-12F: RSSI = -89\n",
      "dqdecox55: RSSI = -89\n",
      "David's house: RSSI = -88\n",
      ": RSSI = -87\n",
      ": RSSI = -87\n",
      ": RSSI = -87\n",
      "TOTOLINK_N302RE: RSSI = -86\n",
      "Xiaomi_DC68_5G: RSSI = -85\n",
      "811_5G: RSSI = -85\n",
      "007_5G-1: RSSI = -85\n",
      "netis_1835B3: RSSI = -84\n",
      "simon: RSSI = -84\n",
      "TP-Link_5E03_5G: RSSI = -84\n",
      "harry: RSSI = -83\n",
      "mama2615: RSSI = -83\n",
      "Xiaomi_CEDC: RSSI = -83\n",
      "edimax_5G_FE6AE2: RSSI = -83\n",
      ": RSSI = -82\n",
      "TP-LINK: RSSI = -82\n",
      "Esther: RSSI = -81\n",
      "chen 15: RSSI = -81\n",
      "poor: RSSI = -81\n",
      ": RSSI = -80\n",
      "359-2-12F: RSSI = -80\n",
      "007_5G-2: RSSI = -80\n",
      "linghong: RSSI = -79\n",
      "12f-162: RSSI = -78\n",
      "Xiaomi_9682: RSSI = -78\n",
      "TP-Link_D978: RSSI = -77\n",
      "dqdecox55: RSSI = -77\n",
      "Tony_2.4G: RSSI = -77\n",
      "TP-Link_E9AA: RSSI = -77\n",
      "130N4F-2.4G: RSSI = -76\n",
      "Siriuslu: RSSI = -76\n",
      "TP-Link_14BC: RSSI = -76\n",
      "mama2615: RSSI = -75\n",
      "Siriuslu: RSSI = -75\n",
      "sophia_wu: RSSI = -74\n",
      "wtt: RSSI = -73\n",
      "edimax_2.4G_FE6ADD: RSSI = -73\n",
      "351 8F-1: RSSI = -73\n",
      "Merlin: RSSI = -72\n",
      ": RSSI = -71\n",
      "TP-Link_247A: RSSI = -71\n",
      "TOTOLINK AC5_2.4G: RSSI = -71\n",
      "349 9F-1: RSSI = -71\n",
      "007: RSSI = -70\n",
      "811_2.4G: RSSI = -66\n",
      "(^_^): RSSI = -66\n",
      "TP-Link_CD94: RSSI = -59\n",
      "ASUS_64: RSSI = -59\n",
      "TP-Link_B8AA: RSSI = -53\n",
      "ãããããããã: RSSI = -32\n",
      "ãããããããã: RSSI = -32\n"
     ]
    }
   ],
   "source": [
    "for i in range(len(id_rssi)):\n",
    "\n",
    "    print(id_rssi[i][0] + ': RSSI = ' + str(id_rssi[i][1]))"
   ]
  },
  {
   "cell_type": "code",
   "execution_count": 253,
   "metadata": {},
   "outputs": [
    {
     "name": "stderr",
     "output_type": "stream",
     "text": [
      "pywifi 2023-12-14 05:49:46,696 ERROR Open handle failed!\n",
      "pywifi 2023-12-14 05:49:59,203 ERROR Open handle failed!\n"
     ]
    }
   ],
   "source": [
    "import pywifi\n",
    "import tkinter as tk\n",
    "window = tk.Tk()\n",
    "window.title('WIFI RSSI') ## 更改視窗的標題\n",
    "window.geometry('800x400') ## 修改視窗大小(寬x高)\n",
    "window.resizable(False, False) ## 是否能手動調整視窗大小(True/False)\n",
    "\n",
    "## 在圖形介面上創建一個Label用來顯示值\n",
    "varl = tk.StringVar()\n",
    "lb1 = tk.Label(window, bg='LightSkyBlue', fg='yellow', font=('Arial', 12), width=90, height=2, textvariable=varl)\n",
    "lb1.pack(side='top')\n",
    "\n",
    "\n",
    "\n",
    "## 創建一個Button來啟動事件\n",
    "def scan_rssi():\n",
    "    lb.delete(0, 'end')  \n",
    "\n",
    "    wifi = pywifi.PyWiFi()\n",
    "    iface = wifi.interfaces()[0] ## 獲取第一個無線網卡\n",
    "    iface.scan() ## 掃描無線網路\n",
    "    result = iface.scan_results() ## 獲取掃描結果\n",
    "\n",
    "\n",
    "    id_rssi = []\n",
    "    for i in range(len(result)):    \n",
    "        id_rssi.append([])\n",
    "        id_rssi[i].append(result[i].ssid)\n",
    "        id_rssi[i].append(result[i].signal)\n",
    "    id_rssi.sort(key = lambda x: x[1])\n",
    "\n",
    "\n",
    "    list_items = []\n",
    "    for i in range(len(id_rssi)):\n",
    "        ans = id_rssi[i][0] + ': RSSI = '+ str(id_rssi[i][1])\n",
    "        list_items.append(ans)\n",
    "\n",
    "    for item in list_items:\n",
    "        lb.insert('end', item) ## Listbox沒有append()\n",
    "\n",
    "def get_rssi():\n",
    "    value = lb.get(lb.curselection())\n",
    "    varl.set(value)\n",
    "\n",
    "btnstr = tk.StringVar() ## 初始化tk的字串變數\n",
    "btnstr.set('scan')\n",
    "btn = tk.Button(window, bg='violet', fg='white', textvariable=btnstr, width=10, font=('微軟正黑體', 12), command=scan_rssi)\n",
    "btn.place(x=55,y=100)\n",
    "\n",
    "btnstr2 = tk.StringVar() ## 初始化tk的字串變數\n",
    "btnstr2.set('get')\n",
    "btn2 = tk.Button(window, bg='violet', fg='white', textvariable=btnstr2, width=10,font=('微軟正黑體', 12), command=get_rssi)\n",
    "btn2.place(x=55,y=200)\n",
    "\n",
    "\n",
    "\n",
    "## 創建一個Listbox並添加顯示內容\n",
    "var2 = tk.StringVar()\n",
    "var2.set(())\n",
    "\n",
    "fr = tk.Frame(window)\n",
    "scy = tk.Scrollbar(fr, orient='vertical')\n",
    "\n",
    "lb = tk.Listbox(fr, width=80, height=20, listvariable=var2, yscrollcommand=scy.set)\n",
    "scy.config(command=lb.yview)\n",
    "scy.pack(side='right', fill='y')\n",
    "fr.pack(side='right',pady=10)\n",
    "lb.pack()\n",
    "# lb.place(x=200,y=50)\n",
    "\n",
    "\n",
    "\n",
    "\n",
    "window.mainloop() ## 呼叫mainloop()啟動"
   ]
  },
  {
   "cell_type": "code",
   "execution_count": null,
   "metadata": {},
   "outputs": [],
   "source": []
  },
  {
   "cell_type": "code",
   "execution_count": null,
   "metadata": {},
   "outputs": [],
   "source": []
  }
 ],
 "metadata": {
  "kernelspec": {
   "display_name": "Python 3",
   "language": "python",
   "name": "python3"
  },
  "language_info": {
   "codemirror_mode": {
    "name": "ipython",
    "version": 3
   },
   "file_extension": ".py",
   "mimetype": "text/x-python",
   "name": "python",
   "nbconvert_exporter": "python",
   "pygments_lexer": "ipython3",
   "version": "3.10.13"
  }
 },
 "nbformat": 4,
 "nbformat_minor": 2
}
